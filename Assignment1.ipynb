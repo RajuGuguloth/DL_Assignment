{
  "nbformat": 4,
  "nbformat_minor": 0,
  "metadata": {
    "colab": {
      "provenance": [],
      "include_colab_link": true
    },
    "kernelspec": {
      "name": "python3",
      "display_name": "Python 3"
    },
    "language_info": {
      "name": "python"
    }
  },
  "cells": [
    {
      "cell_type": "markdown",
      "metadata": {
        "id": "view-in-github",
        "colab_type": "text"
      },
      "source": [
        "<a href=\"https://colab.research.google.com/github/RajuGuguloth/DL_Assignment/blob/main/Assignment1.ipynb\" target=\"_parent\"><img src=\"https://colab.research.google.com/assets/colab-badge.svg\" alt=\"Open In Colab\"/></a>"
      ]
    },
    {
      "cell_type": "code",
      "execution_count": 20,
      "metadata": {
        "id": "rTOwylHGTnTj"
      },
      "outputs": [],
      "source": [
        "import wandb\n",
        "from keras.datasets import fashion_mnist\n",
        "from keras.datasets import mnist\n",
        "import matplotlib.pyplot as plt\n",
        "from sklearn.metrics import confusion_matrix\n",
        "import seaborn as sns\n",
        "from sklearn.model_selection import train_test_split\n",
        "import matplotlib.pyplot as plt\n",
        "import numpy as np\n",
        "import pandas as pd\n",
        "import math"
      ]
    },
    {
      "cell_type": "code",
      "source": [
        "!wandb login"
      ],
      "metadata": {
        "id": "N4qhZBRjs9Ya",
        "colab": {
          "base_uri": "https://localhost:8080/"
        },
        "outputId": "74513166-4552-462d-9c46-0831bde3329b"
      },
      "execution_count": 21,
      "outputs": [
        {
          "output_type": "stream",
          "name": "stdout",
          "text": [
            "\u001b[34m\u001b[1mwandb\u001b[0m: Currently logged in as: \u001b[33mrajuguguloth7670\u001b[0m (\u001b[33mrajuguguloth7670-iitm-india\u001b[0m) to \u001b[32mhttps://api.wandb.ai\u001b[0m. Use \u001b[1m`wandb login --relogin`\u001b[0m to force relogin\n"
          ]
        }
      ]
    },
    {
      "cell_type": "code",
      "source": [
        "\n",
        "# For seeing examples of images\n",
        "(X_train, Y_train), (X_test, Y_test) = fashion_mnist.load_data()\n",
        "X_train, X_val, Y_train, Y_val = train_test_split(X_train, Y_train, test_size=0.2, random_state=42)\n",
        "\n",
        "wandb.init(project=\"Assignment 1\")\n",
        "run_name = \"images_generating\"\n",
        "# Set the run name\n",
        "wandb.run.name = run_name\n",
        "wandb.run.save()\n",
        "\n",
        "# this array keeps track for ind of each class\n",
        "images_ind = []\n",
        "# classes which are present\n",
        "class_names = [\"T-shirt/Top\", \"Trouser\", \"Pullover\", \"Dress\", \"Coat\", \"Sandal\", \"Shirt\", \"Sneaker\", \"Bag\", \"Ankle Boot\"]\n",
        "\n",
        "for i in range(10):\n",
        "  for ind in range(X_train.shape[0]):\n",
        "    if Y_train[ind] == i:\n",
        "      images_ind.append(ind)\n",
        "      break\n",
        "\n",
        "images = []\n",
        "\n",
        "for i in range(10):\n",
        "  ind = images_ind[i]\n",
        "  img = wandb.Image(X_train[ind], caption=[class_names[i]])\n",
        "  images.append(img)\n",
        "\n",
        "wandb.log({\"Question 1\": images})\n",
        "wandb.finish()\n",
        "\n",
        "plt.tight_layout()\n",
        "plt.show()  # Display the plot"
      ],
      "metadata": {
        "id": "METkF5a7rNA2",
        "colab": {
          "base_uri": "https://localhost:8080/",
          "height": 262
        },
        "outputId": "8b783290-0e62-4c1a-f027-678e03a4d836"
      },
      "execution_count": 22,
      "outputs": [
        {
          "output_type": "display_data",
          "data": {
            "text/plain": [
              "<IPython.core.display.HTML object>"
            ],
            "text/html": [
              "Changes to your `wandb` environment variables will be ignored because your `wandb` session has already started. For more information on how to modify your settings with `wandb.init()` arguments, please refer to <a href='https://wandb.me/wandb-init' target=\"_blank\">the W&B docs</a>."
            ]
          },
          "metadata": {}
        },
        {
          "output_type": "display_data",
          "data": {
            "text/plain": [
              "<IPython.core.display.HTML object>"
            ],
            "text/html": [
              "Ignoring project 'Assignment 1' when running a sweep."
            ]
          },
          "metadata": {}
        },
        {
          "output_type": "display_data",
          "data": {
            "text/plain": [
              "<IPython.core.display.HTML object>"
            ],
            "text/html": [
              "Tracking run with wandb version 0.19.8"
            ]
          },
          "metadata": {}
        },
        {
          "output_type": "display_data",
          "data": {
            "text/plain": [
              "<IPython.core.display.HTML object>"
            ],
            "text/html": [
              "Run data is saved locally in <code>/content/wandb/run-20250327_184347-tsazfrm4</code>"
            ]
          },
          "metadata": {}
        },
        {
          "output_type": "display_data",
          "data": {
            "text/plain": [
              "<IPython.core.display.HTML object>"
            ],
            "text/html": [
              "Syncing run <strong><a href='https://wandb.ai/rajuguguloth7670-iitm-india/Assignment%201/runs/tsazfrm4' target=\"_blank\">momentum_sigmoid_hl3_hs64_bs16_lr0.0001_wd0_initrandom_epochs5</a></strong> to <a href='https://wandb.ai/rajuguguloth7670-iitm-india/Assignment%201' target=\"_blank\">Weights & Biases</a> (<a href='https://wandb.me/developer-guide' target=\"_blank\">docs</a>)<br>Sweep page: <a href='https://wandb.ai/rajuguguloth7670-iitm-india/Assignment%201/sweeps/wx1z6499' target=\"_blank\">https://wandb.ai/rajuguguloth7670-iitm-india/Assignment%201/sweeps/wx1z6499</a>"
            ]
          },
          "metadata": {}
        },
        {
          "output_type": "display_data",
          "data": {
            "text/plain": [
              "<IPython.core.display.HTML object>"
            ],
            "text/html": [
              " View project at <a href='https://wandb.ai/rajuguguloth7670-iitm-india/Assignment%201' target=\"_blank\">https://wandb.ai/rajuguguloth7670-iitm-india/Assignment%201</a>"
            ]
          },
          "metadata": {}
        },
        {
          "output_type": "display_data",
          "data": {
            "text/plain": [
              "<IPython.core.display.HTML object>"
            ],
            "text/html": [
              " View sweep at <a href='https://wandb.ai/rajuguguloth7670-iitm-india/Assignment%201/sweeps/wx1z6499' target=\"_blank\">https://wandb.ai/rajuguguloth7670-iitm-india/Assignment%201/sweeps/wx1z6499</a>"
            ]
          },
          "metadata": {}
        },
        {
          "output_type": "display_data",
          "data": {
            "text/plain": [
              "<IPython.core.display.HTML object>"
            ],
            "text/html": [
              " View run at <a href='https://wandb.ai/rajuguguloth7670-iitm-india/Assignment%201/runs/tsazfrm4' target=\"_blank\">https://wandb.ai/rajuguguloth7670-iitm-india/Assignment%201/runs/tsazfrm4</a>"
            ]
          },
          "metadata": {}
        },
        {
          "output_type": "display_data",
          "data": {
            "text/plain": [
              "<IPython.core.display.HTML object>"
            ],
            "text/html": []
          },
          "metadata": {}
        },
        {
          "output_type": "display_data",
          "data": {
            "text/plain": [
              "<IPython.core.display.HTML object>"
            ],
            "text/html": [
              " View run <strong style=\"color:#cdcd00\">images_generating</strong> at: <a href='https://wandb.ai/rajuguguloth7670-iitm-india/Assignment%201/runs/tsazfrm4' target=\"_blank\">https://wandb.ai/rajuguguloth7670-iitm-india/Assignment%201/runs/tsazfrm4</a><br> View project at: <a href='https://wandb.ai/rajuguguloth7670-iitm-india/Assignment%201' target=\"_blank\">https://wandb.ai/rajuguguloth7670-iitm-india/Assignment%201</a><br>Synced 5 W&B file(s), 10 media file(s), 0 artifact file(s) and 0 other file(s)"
            ]
          },
          "metadata": {}
        },
        {
          "output_type": "display_data",
          "data": {
            "text/plain": [
              "<IPython.core.display.HTML object>"
            ],
            "text/html": [
              "Find logs at: <code>./wandb/run-20250327_184347-tsazfrm4/logs</code>"
            ]
          },
          "metadata": {}
        },
        {
          "output_type": "display_data",
          "data": {
            "text/plain": [
              "<Figure size 640x480 with 0 Axes>"
            ]
          },
          "metadata": {}
        }
      ]
    },
    {
      "cell_type": "code",
      "source": [],
      "metadata": {
        "id": "qtUDZwoPREvD"
      },
      "execution_count": 22,
      "outputs": []
    },
    {
      "cell_type": "code",
      "source": [
        "import numpy as np\n",
        "import wandb\n",
        "from tensorflow.keras.datasets import fashion_mnist, mnist"
      ],
      "metadata": {
        "id": "50JATBD8aDgT"
      },
      "execution_count": 23,
      "outputs": []
    },
    {
      "cell_type": "markdown",
      "source": [
        "Activation Functions"
      ],
      "metadata": {
        "id": "xGgNjz70RtOR"
      }
    },
    {
      "cell_type": "code",
      "source": [
        "def sigmoid(x):\n",
        "    x = np.clip(x, -500, 500)\n",
        "    return 1 / (1 + np.exp(-x))\n",
        "\n",
        "def sigmoid_grad(x):\n",
        "    s = sigmoid(x)\n",
        "    return s * (1 - s)\n",
        "\n",
        "def tanh(x):\n",
        "    return np.tanh(x)\n",
        "\n",
        "def tanh_grad(x):\n",
        "    return 1 - np.tanh(x)**2\n",
        "\n",
        "def relu(x):\n",
        "    return np.maximum(0, x)\n",
        "\n",
        "def relu_grad(x):\n",
        "    return (x > 0).astype(float)\n",
        "\n",
        "def softmax(x):\n",
        "    x = np.clip(x, -500, 500)\n",
        "    exp_x = np.exp(x - np.max(x, axis=1, keepdims=True))\n",
        "    return exp_x / np.sum(exp_x, axis=1, keepdims=True)"
      ],
      "metadata": {
        "id": "Zy7bfBQCRFVb"
      },
      "execution_count": 24,
      "outputs": []
    },
    {
      "cell_type": "markdown",
      "source": [
        "Weight Initialization Functions"
      ],
      "metadata": {
        "id": "9OiWUdOYSFXR"
      }
    },
    {
      "cell_type": "code",
      "source": [
        "def xavier_init(size):\n",
        "    \"\"\" Xavier Initialization \"\"\"\n",
        "    fan_in, fan_out = size\n",
        "    stddev = np.sqrt(2 / (fan_in + fan_out))  # sqrt(2 / (fan_in + fan_out))\n",
        "    return np.random.randn(*size) * stddev\n",
        "\n",
        "def random_init(size):\n",
        "    \"\"\" Random initialization \"\"\"\n",
        "    return np.random.randn(*size)"
      ],
      "metadata": {
        "id": "biQzTED0SJv_"
      },
      "execution_count": 25,
      "outputs": []
    },
    {
      "cell_type": "markdown",
      "source": [
        "Loss functions"
      ],
      "metadata": {
        "id": "tvIZuMMkWZW-"
      }
    },
    {
      "cell_type": "code",
      "source": [
        "def cross_entropy_loss(y_true, y_pred):\n",
        "    return -np.mean(np.sum(y_true * np.log(y_pred + 1e-9), axis=1))\n",
        "\n",
        "def mse_loss(y_true, y_pred):\n",
        "    return np.mean((y_true - y_pred) ** 2)"
      ],
      "metadata": {
        "id": "20vTtcFnWa44"
      },
      "execution_count": 26,
      "outputs": []
    },
    {
      "cell_type": "markdown",
      "source": [
        "Optimizers"
      ],
      "metadata": {
        "id": "V9VJviOhbc8F"
      }
    },
    {
      "cell_type": "code",
      "source": [
        "class Optimizer:\n",
        "    def __init__(self, optimizer='adam', learning_rate=0.01, beta=0.9, beta1=0.9, beta2=0.999, epsilon=1e-8, weight_decay=0.0):\n",
        "        self.optimizer = optimizer\n",
        "        self.learning_rate = learning_rate\n",
        "        self.beta = beta          # for momentum, nesterov, rmsprop\n",
        "        self.beta1 = beta1        # for adam, nadam\n",
        "        self.beta2 = beta2        # for adam, nadam\n",
        "        self.epsilon = epsilon\n",
        "        self.weight_decay = weight_decay\n",
        "        self.m = {}               # momentum or first moment estimates\n",
        "        self.v = {}               # second moment estimates (for adam/nadam, rmsprop)\n",
        "        self.t = 0                # global timestep\n",
        "\n",
        "    def update(self, keys, params, grads):\n",
        "        \"\"\"\n",
        "        Update parameters given a list of unique keys, parameters, and their corresponding gradients.\n",
        "        \"\"\"\n",
        "        self.t += 1  # update iteration count for bias correction\n",
        "\n",
        "        if self.optimizer == \"sgd\":\n",
        "            for key, param, grad in zip(keys, params, grads):\n",
        "                if self.weight_decay > 0:\n",
        "                    grad += self.weight_decay * param  # L2 regularization\n",
        "                param -= self.learning_rate * grad\n",
        "\n",
        "        elif self.optimizer == \"momentum\":\n",
        "            for key, param, grad in zip(keys, params, grads):\n",
        "                if key not in self.m:\n",
        "                    self.m[key] = np.zeros_like(grad)\n",
        "                if self.weight_decay > 0:\n",
        "                    grad += self.weight_decay * param\n",
        "                self.m[key] = self.beta * self.m[key] + (1 - self.beta) * grad\n",
        "                param -= self.learning_rate * self.m[key]\n",
        "\n",
        "        elif self.optimizer == \"nesterov\":\n",
        "            for key, param, grad in zip(keys, params, grads):\n",
        "                if key not in self.m:\n",
        "                    self.m[key] = np.zeros_like(grad)\n",
        "                prev_m = self.m[key].copy()\n",
        "                if self.weight_decay > 0:\n",
        "                    grad += self.weight_decay * param\n",
        "                self.m[key] = self.beta * self.m[key] + (1 - self.beta) * grad\n",
        "                # Nesterov update: lookahead using prev_m\n",
        "                param -= self.learning_rate * (self.beta * prev_m + (1 - self.beta) * grad)\n",
        "\n",
        "        elif self.optimizer == \"rmsprop\":\n",
        "            for key, param, grad in zip(keys, params, grads):\n",
        "                if key not in self.v:\n",
        "                    self.v[key] = np.zeros_like(grad)\n",
        "                if self.weight_decay > 0:\n",
        "                    grad += self.weight_decay * param\n",
        "                self.v[key] = self.beta * self.v[key] + (1 - self.beta) * (grad ** 2)\n",
        "                param -= self.learning_rate * grad / (np.sqrt(self.v[key]) + self.epsilon)\n",
        "\n",
        "        elif self.optimizer == \"adam\":\n",
        "            for key, param, grad in zip(keys, params, grads):\n",
        "                if key not in self.m:\n",
        "                    self.m[key] = np.zeros_like(grad)\n",
        "                    self.v[key] = np.zeros_like(grad)\n",
        "                if self.weight_decay > 0:\n",
        "                    grad += self.weight_decay * param\n",
        "                self.m[key] = self.beta1 * self.m[key] + (1 - self.beta1) * grad\n",
        "                self.v[key] = self.beta2 * self.v[key] + (1 - self.beta2) * (grad ** 2)\n",
        "                m_hat = self.m[key] / (1 - self.beta1 ** self.t)\n",
        "                v_hat = self.v[key] / (1 - self.beta2 ** self.t)\n",
        "                param -= self.learning_rate * m_hat / (np.sqrt(v_hat) + self.epsilon)\n",
        "\n",
        "        elif self.optimizer == \"nadam\":\n",
        "            for key, param, grad in zip(keys, params, grads):\n",
        "                if key not in self.m:\n",
        "                    self.m[key] = np.zeros_like(grad)\n",
        "                    self.v[key] = np.zeros_like(grad)\n",
        "                if self.weight_decay > 0:\n",
        "                    grad += self.weight_decay * param\n",
        "                self.m[key] = self.beta1 * self.m[key] + (1 - self.beta1) * grad\n",
        "                self.v[key] = self.beta2 * self.v[key] + (1 - self.beta2) * (grad ** 2)\n",
        "                m_hat = self.m[key] / (1 - self.beta1 ** self.t)\n",
        "                v_hat = self.v[key] / (1 - self.beta2 ** self.t)\n",
        "                # Nadam update: combines Nesterov momentum with Adam\n",
        "                param -= self.learning_rate * ((self.beta1 * m_hat + (1 - self.beta1) * grad / (1 - self.beta1 ** self.t)) / (np.sqrt(v_hat) + self.epsilon))"
      ],
      "metadata": {
        "id": "7ZO7AcjxbfmD"
      },
      "execution_count": 27,
      "outputs": []
    },
    {
      "cell_type": "markdown",
      "source": [
        "Neural network class with forward and backward propogation"
      ],
      "metadata": {
        "id": "PzYkTh5cVhAa"
      }
    },
    {
      "cell_type": "code",
      "source": [
        "class NeuralNetwork:\n",
        "    def __init__(self, input_size, hidden_size, num_hidden_layers, output_size,\n",
        "                 activation='relu', weight_init_type='Xavier', optimizer='adam',\n",
        "                 learning_rate=0.01, batch_size=64, loss_type='cross_entropy',\n",
        "                 beta=0.9, beta1=0.9, beta2=0.999, weight_decay=0.0005, iswandb=False,dataset=\"fashionmnist\"):\n",
        "\n",
        "        self.input_size = input_size\n",
        "        self.hidden_size = hidden_size\n",
        "        self.num_hidden_layers = num_hidden_layers\n",
        "        self.output_size = output_size\n",
        "        self.activation = activation\n",
        "        self.loss_type = loss_type\n",
        "        self.batch_size = batch_size\n",
        "        self.iswandb = iswandb\n",
        "        self.dataset = dataset\n",
        "\n",
        "        self.optimizer = Optimizer(optimizer, learning_rate, beta, beta1, beta2, weight_decay)\n",
        "        self.initialize_weights(weight_init_type)\n",
        "        self.load_dataset(input_size)\n",
        "\n",
        "    def initialize_weights(self, weight_init_type):\n",
        "        \"\"\"Initialize weights and biases.\"\"\"\n",
        "        self.weights, self.biases = [], []\n",
        "        layer_sizes = [self.input_size] + [self.hidden_size] * self.num_hidden_layers + [self.output_size]\n",
        "        for i in range(len(layer_sizes) - 1):\n",
        "            if weight_init_type == 'Xavier':\n",
        "                init_func = xavier_init\n",
        "            else:\n",
        "                init_func = random_init\n",
        "            self.weights.append(init_func((layer_sizes[i], layer_sizes[i+1])))\n",
        "            self.biases.append(np.zeros((1, layer_sizes[i+1])))\n",
        "\n",
        "    def load_dataset(self, input_size):\n",
        "        \"\"\"Load and preprocess the dataset.\"\"\"\n",
        "        (X_train, y_train), (X_test, y_test) = fashion_mnist.load_data() if self.dataset==\"fashionmnist\" else mnist.load_data()\n",
        "        X_train, X_test = X_train / 255.0, X_test / 255.0\n",
        "        X_train, X_test = X_train.reshape(-1, 784), X_test.reshape(-1, 784)\n",
        "        y_train, y_test = np.eye(10)[y_train], np.eye(10)[y_test]\n",
        "\n",
        "        split_idx = int(0.9 * len(X_train))\n",
        "        self.X_train, self.y_train = X_train[:split_idx], y_train[:split_idx]\n",
        "        self.X_val, self.y_val = X_train[split_idx:], y_train[split_idx:]\n",
        "        self.X_test, self.y_test = X_test, y_test\n",
        "\n",
        "    def activation_function(self, x):\n",
        "        \"\"\"Apply activation function based on the choice.\"\"\"\n",
        "        if self.activation == 'relu':\n",
        "            return relu(x)\n",
        "        elif self.activation == 'sigmoid':\n",
        "            return sigmoid(x)\n",
        "        elif self.activation == 'tanh':\n",
        "            return tanh(x)\n",
        "        return x  # Default: Linear activation\n",
        "\n",
        "    def activation_gradient(self, x):\n",
        "        \"\"\"Compute gradient of activation function.\"\"\"\n",
        "        if self.activation == 'relu':\n",
        "            return relu_grad(x)\n",
        "        elif self.activation == 'sigmoid':\n",
        "            return sigmoid_grad(x)\n",
        "        elif self.activation == 'tanh':\n",
        "            return tanh_grad(x)\n",
        "        return np.ones_like(x)  # Default: Linear activation gradient\n",
        "\n",
        "    def loss_function(self, y_true, y_pred):\n",
        "        return cross_entropy_loss(y_true, y_pred) if self.loss_type == 'cross_entropy' else mse_loss(y_true, y_pred)\n",
        "\n",
        "    def compute_accuracy(self, y_true, y_pred):\n",
        "        return np.mean(np.argmax(y_true, axis=1) == np.argmax(y_pred, axis=1))\n",
        "\n",
        "    def forward(self, X):\n",
        "        \"\"\"Perform forward propagation.\"\"\"\n",
        "        self.activations, self.pre_activations = [X], []\n",
        "        for i in range(len(self.weights) - 1):\n",
        "            z = self.activations[-1] @ self.weights[i] + self.biases[i]\n",
        "            self.pre_activations.append(z)\n",
        "            self.activations.append(self.activation_function(z))\n",
        "        z_out = self.activations[-1] @ self.weights[-1] + self.biases[-1]\n",
        "        self.pre_activations.append(z_out)\n",
        "        self.activations.append(softmax(z_out))\n",
        "        return self.activations[-1]\n",
        "\n",
        "    def backward(self, X, y_true):\n",
        "        \"\"\"Perform backward propagation with weight decay (L2 Regularization).\"\"\"\n",
        "        grads = []\n",
        "        loss_grad = self.activations[-1] - y_true\n",
        "        grads.append(loss_grad)\n",
        "\n",
        "        for i in range(len(self.weights) - 1, 0, -1):\n",
        "            loss_grad = loss_grad @ self.weights[i].T * self.activation_gradient(self.pre_activations[i-1])\n",
        "            grads.insert(0, loss_grad)\n",
        "\n",
        "        weight_grads = [(self.activations[i].T @ grads[i]) + self.optimizer.weight_decay * self.weights[i] for i in range(len(self.weights))]\n",
        "        bias_grads = [np.sum(grads[i], axis=0, keepdims=True) for i in range(len(self.weights))]\n",
        "\n",
        "        # In the backward method, use separate keys for weights and biases:\n",
        "        weight_keys = [f\"w{i}\" for i in range(len(self.weights))]\n",
        "        bias_keys = [f\"b{i}\" for i in range(len(self.biases))]\n",
        "\n",
        "        self.optimizer.update(weight_keys, self.weights, weight_grads)\n",
        "        self.optimizer.update(bias_keys, self.biases, bias_grads)\n",
        "\n",
        "\n",
        "    def fit(self, epochs):\n",
        "        \"\"\"Train the neural network with mini-batch gradient descent.\"\"\"\n",
        "        num_samples = self.X_train.shape[0]\n",
        "        num_batches = num_samples // self.batch_size\n",
        "\n",
        "        for epoch in range(epochs):\n",
        "            indices = np.arange(num_samples)\n",
        "            np.random.shuffle(indices)\n",
        "\n",
        "            for batch in range(num_batches):\n",
        "                batch_indices = indices[batch * self.batch_size : (batch + 1) * self.batch_size]\n",
        "                X_batch, y_batch = self.X_train[batch_indices], self.y_train[batch_indices]\n",
        "\n",
        "                y_pred_train = self.forward(X_batch)\n",
        "                self.backward(X_batch, y_batch)\n",
        "\n",
        "            train_loss = self.loss_function(self.y_train, self.forward(self.X_train))\n",
        "            val_loss = self.loss_function(self.y_val, self.forward(self.X_val))\n",
        "            train_acc = self.compute_accuracy(self.y_train, self.forward(self.X_train))\n",
        "            val_acc = self.compute_accuracy(self.y_val, self.forward(self.X_val))\n",
        "\n",
        "            if self.iswandb:\n",
        "                wandb.log({\n",
        "                    \"epoch\": epoch,\n",
        "                    \"train_loss\": train_loss,\n",
        "                    \"val_loss\": val_loss,\n",
        "                    \"train_accuracy\": train_acc,\n",
        "                    \"val_accuracy\": val_acc\n",
        "                })\n",
        "\n",
        "            print(f\"Epoch {epoch+1}/{epochs} - Train Loss: {train_loss:.4f}, Val Loss: {val_loss:.4f}, Train Acc: {train_acc:.4f}, Val Acc: {val_acc:.4f}\")\n"
      ],
      "metadata": {
        "id": "ITRuqwN3VmSF"
      },
      "execution_count": 28,
      "outputs": []
    },
    {
      "cell_type": "code",
      "source": [
        "import wandb\n",
        "\n",
        "# Initialize WandB (optional)\n",
        "# wandb.init(project=\"Assignment 1\")\n",
        "\n",
        "nn = NeuralNetwork(\n",
        "    input_size=784,\n",
        "    hidden_size=128,\n",
        "    num_hidden_layers=2,\n",
        "    output_size=10,\n",
        "    activation='relu',\n",
        "    weight_init_type='Xavier',\n",
        "    optimizer='adam',\n",
        "    learning_rate=0.01,\n",
        "    batch_size=64,\n",
        "    loss_type='cross_entropy',\n",
        "    beta=0.9,\n",
        "    beta1=0.9,\n",
        "    beta2=0.999,\n",
        "    weight_decay=0.0005,\n",
        "    iswandb=False\n",
        ")\n",
        "\n",
        "#nn.fit(epochs=10)\n",
        "\n",
        "\n",
        "# Evaluate on Test Data\n",
        "y_pred_test = nn.forward(nn.X_test)\n",
        "test_accuracy = nn.compute_accuracy(nn.y_test, y_pred_test)\n",
        "\n",
        "print(f\"Test Accuracy: {test_accuracy:.4f}\")\n",
        "# wandb.log({\"Test Accuracy\": test_accuracy})  # Log final test accuracy\n",
        "\n",
        "# Finish WandB\n",
        "# wandb.finish()\n"
      ],
      "metadata": {
        "colab": {
          "base_uri": "https://localhost:8080/"
        },
        "id": "hRecs6P-c8WM",
        "outputId": "0444aa28-cd1c-4ef7-bf49-3e059478cfb1"
      },
      "execution_count": 29,
      "outputs": [
        {
          "output_type": "stream",
          "name": "stdout",
          "text": [
            "Test Accuracy: 0.1030\n"
          ]
        }
      ]
    },
    {
      "cell_type": "code",
      "source": [
        "# Define the main training function\n",
        "def main():\n",
        "    # Initialize a new wandb run under the \"Assignment 1\" project\n",
        "    wandb.init(project=\"Assignment 1\")\n",
        "    config = wandb.config\n",
        "\n",
        "    # Construct a run name containing all hyperparameters\n",
        "    run_name = (\n",
        "        f\"{config.optimiser}_\"\n",
        "        f\"{config.activation}_\"\n",
        "        f\"hl{config.hidden_layers}_\"\n",
        "        f\"hs{config.hidden_layer_size}_\"\n",
        "        f\"bs{config.batch_size}_\"\n",
        "        f\"lr{config.learning_rate}_\"\n",
        "        f\"wd{config.weight_decay}_\"\n",
        "        f\"init{config.weights_initialisation}_\"\n",
        "        f\"epochs{config.epochs}\"\n",
        "    )\n",
        "\n",
        "    # Set and save the run name\n",
        "    wandb.run.name = run_name\n",
        "    wandb.run.save()\n",
        "\n",
        "    # Create and train your neural network model.\n",
        "    # Ensure your NeuralNetwork class is imported or defined before this.\n",
        "    model = NeuralNetwork(\n",
        "        input_size=784,\n",
        "        hidden_size=config.hidden_layer_size,\n",
        "        num_hidden_layers=config.hidden_layers,\n",
        "        output_size=10,\n",
        "        activation=config.activation,\n",
        "        weight_init_type=config.weights_initialisation,\n",
        "        optimizer=config.optimiser,\n",
        "        learning_rate=config.learning_rate,\n",
        "        batch_size=config.batch_size,\n",
        "        loss_type='cross_entropy',\n",
        "        weight_decay=config.weight_decay,\n",
        "        iswandb=True\n",
        "        # beta, beta1, beta2 use default values if not provided\n",
        "    )\n",
        "\n",
        "\n",
        "    model.fit(config.epochs)  # Train the model\n",
        "\n",
        "    # Optionally, you can log additional metrics here if needed.\n",
        "    wandb.finish()\n",
        "\n",
        "# Define the sweep configuration\n",
        "sweep_config = {\n",
        "    'method': 'bayes',\n",
        "    'name': 'sweep cross entropy',\n",
        "    'metric': {\n",
        "        'name': 'val_accuracy',\n",
        "        'goal': 'maximize'\n",
        "    },\n",
        "    'parameters': {\n",
        "        'epochs': {\n",
        "            'values': [5, 10]\n",
        "        },\n",
        "        'hidden_layers': {\n",
        "            'values': [3, 4, 5]\n",
        "        },\n",
        "        'hidden_layer_size': {\n",
        "            'values': [32, 64, 128]\n",
        "        },\n",
        "        'weight_decay': {\n",
        "            'values': [0, 0.0005, 0.5]\n",
        "        },\n",
        "        'batch_size': {\n",
        "            'values': [16, 32, 64]\n",
        "        },\n",
        "        'activation': {\n",
        "            'values': ['sigmoid', 'relu', 'tanh']\n",
        "        },\n",
        "        'optimiser': {\n",
        "            'values': ['sgd', 'momentum', 'nestrov', 'rmsprop', 'adam', 'nadam']\n",
        "        },\n",
        "        'weights_initialisation': {\n",
        "            'values': ['random', 'Xavier']\n",
        "        },\n",
        "        'learning_rate': {\n",
        "            'values': [1e-2, 1e-3, 1e-4]\n",
        "        },\n",
        "    }\n",
        "}\n",
        "\n",
        "\n",
        "\n",
        "\n",
        "\n"
      ],
      "metadata": {
        "id": "pw3HavBfmMQi"
      },
      "execution_count": 31,
      "outputs": []
    },
    {
      "cell_type": "markdown",
      "source": [
        "Confusion Matrix"
      ],
      "metadata": {
        "id": "xDucUvsHTl1V"
      }
    },
    {
      "cell_type": "code",
      "source": [
        "import numpy as np\n",
        "import matplotlib.pyplot as plt\n",
        "import seaborn as sns\n",
        "from sklearn.metrics import confusion_matrix, accuracy_score\n",
        "\n",
        "# Example class names for Fashion-MNIST:\n",
        "class_names = [\n",
        "    \"T-shirt/top\", \"Trouser\", \"Pullover\", \"Dress\", \"Coat\",\n",
        "    \"Sandal\", \"Shirt\", \"Sneaker\", \"Bag\", \"Ankle boot\"\n",
        "]\n",
        "\n",
        "def train():\n",
        "    wandb.init(project=\"Assignment 1\")  # Set your project name\n",
        "    config = wandb.config\n",
        "\n",
        "    # Construct a descriptive run name using the hyperparameters\n",
        "    run_name = (\n",
        "        f\"{config.optimiser}_\"\n",
        "        f\"{config.activation}_\"\n",
        "        f\"{config.hidden_layers}_\"\n",
        "        f\"{config.hidden_layer_size}_\"\n",
        "        f\"{config.batch_size}_\"\n",
        "        f\"{config.learning_rate}_\"\n",
        "        f\"{config.weight_decay}_\"\n",
        "        f\"{config.weights_initialisation}\"\n",
        "    )\n",
        "    wandb.run.name = run_name\n",
        "    wandb.run.save()\n",
        "\n",
        "\n",
        "    model = NeuralNetwork(\n",
        "        input_size=784,                     # e.g., 28x28 images flattened\n",
        "        hidden_size=128,\n",
        "        num_hidden_layers=5,\n",
        "        output_size=10,                     # 10 classes in Fashion-MNIST\n",
        "        activation='relu',\n",
        "        weight_init_type='Xavier',\n",
        "        optimizer='sgd',\n",
        "        learning_rate=0.001,\n",
        "        batch_size=32,\n",
        "        loss_type='cross_entropy',          # Or 'mse' if you prefer\n",
        "        weight_decay=0,\n",
        "        iswandb=True  # so that your NN can log to W&B if it does so internally\n",
        "    )\n",
        "\n",
        "\n",
        "    # 3. Train your model\n",
        "\n",
        "    model.fit(epochs=config.epochs)\n",
        "\n",
        "\n",
        "    # 4. Evaluate on Validation\n",
        "\n",
        "    y_pred_val_prob = model.forward(model.X_val)\n",
        "    y_pred_val = np.argmax(y_pred_val_prob, axis=1)\n",
        "    y_true_val = np.argmax(model.y_val, axis=1)\n",
        "    val_accuracy = accuracy_score(y_true_val, y_pred_val)\n",
        "    wandb.log({\"val_accuracy\": val_accuracy})\n",
        "\n",
        "\n",
        "    # 5. Evaluate on Test set\n",
        "\n",
        "    y_pred_test_prob = model.forward(model.X_test)\n",
        "    y_pred_test = np.argmax(y_pred_test_prob, axis=1)\n",
        "    y_true_test = np.argmax(model.y_test, axis=1)\n",
        "    test_accuracy = accuracy_score(y_true_test, y_pred_test)\n",
        "    wandb.log({\"test_accuracy\": test_accuracy})\n",
        "\n",
        "\n",
        "    # 6. Confusion Matrix\n",
        "\n",
        "    cm = confusion_matrix(y_true_test, y_pred_test)\n",
        "\n",
        "    plt.figure(figsize=(8, 6))\n",
        "    ax = sns.heatmap(\n",
        "        cm,\n",
        "        annot=True,\n",
        "        fmt=\"d\",\n",
        "        cmap=\"Reds\",\n",
        "        xticklabels=class_names,\n",
        "        yticklabels=class_names,\n",
        "        cbar=False\n",
        "    )\n",
        "    # Optionally highlight diagonal\n",
        "    for i in range(cm.shape[0]):\n",
        "        ax.add_patch(plt.Rectangle((i, i), 1, 1, fill=False, edgecolor='green', lw=3))\n",
        "\n",
        "    plt.title(\"Confusion Matrix - Fashion MNIST (Test Set)\")\n",
        "    plt.xlabel(\"Predicted Label\")\n",
        "    plt.ylabel(\"True Label\")\n",
        "    plt.tight_layout()\n",
        "\n",
        "    # Log the figure to W&B\n",
        "    wandb.log({\"confusion_matrix\": wandb.Image(plt)})\n",
        "    plt.close()\n",
        "\n",
        "\n",
        "    # 7. Finish\n",
        "\n",
        "    wandb.finish()\n"
      ],
      "metadata": {
        "id": "LbyLTk8BoPtB"
      },
      "execution_count": 32,
      "outputs": []
    },
    {
      "cell_type": "code",
      "source": [
        "def run_sweep():\n",
        "    # Create the sweep\n",
        "    sweep_id = wandb.sweep(sweep_config, project=\"Assignment 1\")\n",
        "    # Run the sweep agent\n",
        "    wandb.agent(sweep_id, function=train, count=1)\n",
        "\n",
        "\n",
        "run_sweep()\n"
      ],
      "metadata": {
        "colab": {
          "base_uri": "https://localhost:8080/",
          "height": 976
        },
        "id": "bATbeWYCT4GG",
        "outputId": "9d3a7108-061b-49b8-cac6-3fc760ea93a2"
      },
      "execution_count": 33,
      "outputs": [
        {
          "output_type": "stream",
          "name": "stdout",
          "text": [
            "Create sweep with ID: 7fuw0kd7\n",
            "Sweep URL: https://wandb.ai/rajuguguloth7670-iitm-india/Assignment%201/sweeps/7fuw0kd7\n"
          ]
        },
        {
          "output_type": "stream",
          "name": "stderr",
          "text": [
            "\u001b[34m\u001b[1mwandb\u001b[0m: Agent Starting Run: hadde5oj with config:\n",
            "\u001b[34m\u001b[1mwandb\u001b[0m: \tactivation: tanh\n",
            "\u001b[34m\u001b[1mwandb\u001b[0m: \tbatch_size: 16\n",
            "\u001b[34m\u001b[1mwandb\u001b[0m: \tepochs: 5\n",
            "\u001b[34m\u001b[1mwandb\u001b[0m: \thidden_layer_size: 32\n",
            "\u001b[34m\u001b[1mwandb\u001b[0m: \thidden_layers: 5\n",
            "\u001b[34m\u001b[1mwandb\u001b[0m: \tlearning_rate: 0.0001\n",
            "\u001b[34m\u001b[1mwandb\u001b[0m: \toptimiser: adam\n",
            "\u001b[34m\u001b[1mwandb\u001b[0m: \tweight_decay: 0.5\n",
            "\u001b[34m\u001b[1mwandb\u001b[0m: \tweights_initialisation: Xavier\n"
          ]
        },
        {
          "output_type": "display_data",
          "data": {
            "text/plain": [
              "<IPython.core.display.HTML object>"
            ],
            "text/html": [
              "Ignoring project 'Assignment 1' when running a sweep."
            ]
          },
          "metadata": {}
        },
        {
          "output_type": "display_data",
          "data": {
            "text/plain": [
              "<IPython.core.display.HTML object>"
            ],
            "text/html": [
              "Tracking run with wandb version 0.19.8"
            ]
          },
          "metadata": {}
        },
        {
          "output_type": "display_data",
          "data": {
            "text/plain": [
              "<IPython.core.display.HTML object>"
            ],
            "text/html": [
              "Run data is saved locally in <code>/content/wandb/run-20250327_184539-hadde5oj</code>"
            ]
          },
          "metadata": {}
        },
        {
          "output_type": "display_data",
          "data": {
            "text/plain": [
              "<IPython.core.display.HTML object>"
            ],
            "text/html": [
              "Syncing run <strong><a href='https://wandb.ai/rajuguguloth7670-iitm-india/Assignment%201/runs/hadde5oj' target=\"_blank\">scarlet-sweep-1</a></strong> to <a href='https://wandb.ai/rajuguguloth7670-iitm-india/Assignment%201' target=\"_blank\">Weights & Biases</a> (<a href='https://wandb.me/developer-guide' target=\"_blank\">docs</a>)<br>Sweep page: <a href='https://wandb.ai/rajuguguloth7670-iitm-india/Assignment%201/sweeps/7fuw0kd7' target=\"_blank\">https://wandb.ai/rajuguguloth7670-iitm-india/Assignment%201/sweeps/7fuw0kd7</a>"
            ]
          },
          "metadata": {}
        },
        {
          "output_type": "display_data",
          "data": {
            "text/plain": [
              "<IPython.core.display.HTML object>"
            ],
            "text/html": [
              " View project at <a href='https://wandb.ai/rajuguguloth7670-iitm-india/Assignment%201' target=\"_blank\">https://wandb.ai/rajuguguloth7670-iitm-india/Assignment%201</a>"
            ]
          },
          "metadata": {}
        },
        {
          "output_type": "display_data",
          "data": {
            "text/plain": [
              "<IPython.core.display.HTML object>"
            ],
            "text/html": [
              " View sweep at <a href='https://wandb.ai/rajuguguloth7670-iitm-india/Assignment%201/sweeps/7fuw0kd7' target=\"_blank\">https://wandb.ai/rajuguguloth7670-iitm-india/Assignment%201/sweeps/7fuw0kd7</a>"
            ]
          },
          "metadata": {}
        },
        {
          "output_type": "display_data",
          "data": {
            "text/plain": [
              "<IPython.core.display.HTML object>"
            ],
            "text/html": [
              " View run at <a href='https://wandb.ai/rajuguguloth7670-iitm-india/Assignment%201/runs/hadde5oj' target=\"_blank\">https://wandb.ai/rajuguguloth7670-iitm-india/Assignment%201/runs/hadde5oj</a>"
            ]
          },
          "metadata": {}
        },
        {
          "output_type": "stream",
          "name": "stdout",
          "text": [
            "Epoch 1/5 - Train Loss: 0.4694, Val Loss: 0.4886, Train Acc: 0.8287, Val Acc: 0.8237\n",
            "Epoch 2/5 - Train Loss: 0.3734, Val Loss: 0.3884, Train Acc: 0.8630, Val Acc: 0.8557\n",
            "Epoch 3/5 - Train Loss: 0.3583, Val Loss: 0.3831, Train Acc: 0.8679, Val Acc: 0.8583\n",
            "Epoch 4/5 - Train Loss: 0.3180, Val Loss: 0.3587, Train Acc: 0.8830, Val Acc: 0.8732\n",
            "Epoch 5/5 - Train Loss: 0.3422, Val Loss: 0.3818, Train Acc: 0.8676, Val Acc: 0.8588\n"
          ]
        },
        {
          "output_type": "display_data",
          "data": {
            "text/plain": [
              "<IPython.core.display.HTML object>"
            ],
            "text/html": []
          },
          "metadata": {}
        },
        {
          "output_type": "display_data",
          "data": {
            "text/plain": [
              "<IPython.core.display.HTML object>"
            ],
            "text/html": [
              "<br>    <style><br>        .wandb-row {<br>            display: flex;<br>            flex-direction: row;<br>            flex-wrap: wrap;<br>            justify-content: flex-start;<br>            width: 100%;<br>        }<br>        .wandb-col {<br>            display: flex;<br>            flex-direction: column;<br>            flex-basis: 100%;<br>            flex: 1;<br>            padding: 10px;<br>        }<br>    </style><br><div class=\"wandb-row\"><div class=\"wandb-col\"><h3>Run history:</h3><br/><table class=\"wandb\"><tr><td>epoch</td><td>▁▃▅▆█</td></tr><tr><td>test_accuracy</td><td>▁</td></tr><tr><td>train_accuracy</td><td>▁▅▆█▆</td></tr><tr><td>train_loss</td><td>█▄▃▁▂</td></tr><tr><td>val_accuracy</td><td>▁▆▆█▆▆</td></tr><tr><td>val_loss</td><td>█▃▂▁▂</td></tr></table><br/></div><div class=\"wandb-col\"><h3>Run summary:</h3><br/><table class=\"wandb\"><tr><td>epoch</td><td>4</td></tr><tr><td>test_accuracy</td><td>0.8453</td></tr><tr><td>train_accuracy</td><td>0.86763</td></tr><tr><td>train_loss</td><td>0.34224</td></tr><tr><td>val_accuracy</td><td>0.85883</td></tr><tr><td>val_loss</td><td>0.38184</td></tr></table><br/></div></div>"
            ]
          },
          "metadata": {}
        },
        {
          "output_type": "display_data",
          "data": {
            "text/plain": [
              "<IPython.core.display.HTML object>"
            ],
            "text/html": [
              " View run <strong style=\"color:#cdcd00\">adam_tanh_5_32_16_0.0001_0.5_Xavier</strong> at: <a href='https://wandb.ai/rajuguguloth7670-iitm-india/Assignment%201/runs/hadde5oj' target=\"_blank\">https://wandb.ai/rajuguguloth7670-iitm-india/Assignment%201/runs/hadde5oj</a><br> View project at: <a href='https://wandb.ai/rajuguguloth7670-iitm-india/Assignment%201' target=\"_blank\">https://wandb.ai/rajuguguloth7670-iitm-india/Assignment%201</a><br>Synced 5 W&B file(s), 1 media file(s), 0 artifact file(s) and 0 other file(s)"
            ]
          },
          "metadata": {}
        },
        {
          "output_type": "display_data",
          "data": {
            "text/plain": [
              "<IPython.core.display.HTML object>"
            ],
            "text/html": [
              "Find logs at: <code>./wandb/run-20250327_184539-hadde5oj/logs</code>"
            ]
          },
          "metadata": {}
        }
      ]
    },
    {
      "cell_type": "markdown",
      "source": [
        "8th question\n"
      ],
      "metadata": {
        "id": "ebPVhNOzekEJ"
      }
    },
    {
      "cell_type": "code",
      "source": [
        "import numpy as np\n",
        "import matplotlib.pyplot as plt\n",
        "import seaborn as sns\n",
        "from sklearn.metrics import confusion_matrix, accuracy_score\n",
        "\n",
        "sweep_config = {\n",
        "    'method': 'bayes',\n",
        "    'name': 'sweep cross entropy',\n",
        "    'metric': {\n",
        "        'name': 'val_accuracy',\n",
        "        'goal': 'maximize'\n",
        "    },\n",
        "    'parameters': {\n",
        "        'epochs': {\n",
        "            'values': [5, 10]\n",
        "        },\n",
        "        'hidden_layers': {\n",
        "            'values': [3, 4, 5]\n",
        "        },\n",
        "        'hidden_layer_size': {\n",
        "            'values': [32, 64, 128]\n",
        "        },\n",
        "        'weight_decay': {\n",
        "            'values': [0, 0.0005, 0.5]\n",
        "        },\n",
        "        'batch_size': {\n",
        "            'values': [16, 32, 64]\n",
        "        },\n",
        "        'activation': {\n",
        "            'values': ['sigmoid', 'relu', 'tanh']\n",
        "        },\n",
        "        'optimiser': {\n",
        "            'values': ['sgd', 'momentum', 'nestrov', 'rmsprop', 'adam', 'nadam']\n",
        "        },\n",
        "        'weights_initialisation': {\n",
        "            'values': ['random', 'Xavier']\n",
        "        },\n",
        "        'learning_rate': {\n",
        "            'values': [1e-2, 1e-3, 1e-4]\n",
        "        },\n",
        "    }\n",
        "}\n",
        "\n",
        "\n",
        "# Example class names for Fashion-MNIST:\n",
        "class_names = [\n",
        "    \"T-shirt/top\", \"Trouser\", \"Pullover\", \"Dress\", \"Coat\",\n",
        "    \"Sandal\", \"Shirt\", \"Sneaker\", \"Bag\", \"Ankle boot\"\n",
        "]\n",
        "\n",
        "def train():\n",
        "    wandb.init(project=\"Assignment 1\")  # Set your project name\n",
        "    config = wandb.config\n",
        "\n",
        "    # Construct a descriptive run name using the hyperparameters\n",
        "    run_name = (\n",
        "        f\"{config.optimiser}_\"\n",
        "        f\"{config.activation}_\"\n",
        "        f\"{config.hidden_layers}_\"\n",
        "        f\"{config.hidden_layer_size}_\"\n",
        "        f\"{config.batch_size}_\"\n",
        "        f\"{config.learning_rate}_\"\n",
        "        f\"{config.weight_decay}_\"\n",
        "        f\"{config.weights_initialisation}\"\n",
        "    )\n",
        "    wandb.run.name = run_name\n",
        "    wandb.run.save()\n",
        "\n",
        "\n",
        "    model = NeuralNetwork(\n",
        "        input_size=784,                     # e.g., 28x28 images flattened\n",
        "        hidden_size=128,\n",
        "        num_hidden_layers=5,\n",
        "        output_size=10,                     # 10 classes in Fashion-MNIST\n",
        "        activation='relu',\n",
        "        weight_init_type='Xavier',\n",
        "        optimizer='sgd',\n",
        "        learning_rate=0.001,\n",
        "        batch_size=32,\n",
        "        loss_type='mse',          # Or 'mse' if you prefer\n",
        "        weight_decay=0,\n",
        "        iswandb=True  # so that your NN can log to W&B if it does so internally\n",
        "    )\n",
        "\n",
        "\n",
        "    # 3. Train your model\n",
        "\n",
        "    model.fit(epochs=config.epochs)\n",
        "\n",
        "    # 4. Evaluate on Validation\n",
        "\n",
        "    y_pred_val_prob = model.forward(model.X_val)\n",
        "    y_pred_val = np.argmax(y_pred_val_prob, axis=1)\n",
        "    y_true_val = np.argmax(model.y_val, axis=1)\n",
        "    val_accuracy = accuracy_score(y_true_val, y_pred_val)\n",
        "    wandb.log({\"val_accuracy\": val_accuracy})\n",
        "\n",
        "\n",
        "    # 5. Evaluate on Test set\n",
        "\n",
        "    y_pred_test_prob = model.forward(model.X_test)\n",
        "    y_pred_test = np.argmax(y_pred_test_prob, axis=1)\n",
        "    y_true_test = np.argmax(model.y_test, axis=1)\n",
        "    test_accuracy = accuracy_score(y_true_test, y_pred_test)\n",
        "    wandb.log({\"test_accuracy\": test_accuracy})\n",
        "\n",
        "\n",
        "    # 7. Finish\n",
        "\n",
        "    wandb.finish()\n"
      ],
      "metadata": {
        "id": "nqg_xVhveqqM"
      },
      "execution_count": 34,
      "outputs": []
    },
    {
      "cell_type": "code",
      "source": [
        "def run_sweep():\n",
        "    # Create the sweep\n",
        "    sweep_id = wandb.sweep(sweep_config, project=\"Assignment 1\")\n",
        "    # Run the sweep agent\n",
        "    wandb.agent(sweep_id, function=train, count=5)\n",
        "\n",
        "\n",
        "run_sweep()\n"
      ],
      "metadata": {
        "colab": {
          "base_uri": "https://localhost:8080/",
          "height": 406
        },
        "id": "pf6w0Doxf3tT",
        "outputId": "92b77f7a-e1c0-4ad5-e81e-db0daf889aab"
      },
      "execution_count": null,
      "outputs": [
        {
          "output_type": "stream",
          "name": "stdout",
          "text": [
            "Create sweep with ID: frl1rndv\n",
            "Sweep URL: https://wandb.ai/rajuguguloth7670-iitm-india/Assignment%201/sweeps/frl1rndv\n"
          ]
        },
        {
          "output_type": "stream",
          "name": "stderr",
          "text": [
            "\u001b[34m\u001b[1mwandb\u001b[0m: Agent Starting Run: ycwl1j81 with config:\n",
            "\u001b[34m\u001b[1mwandb\u001b[0m: \tactivation: tanh\n",
            "\u001b[34m\u001b[1mwandb\u001b[0m: \tbatch_size: 32\n",
            "\u001b[34m\u001b[1mwandb\u001b[0m: \tepochs: 10\n",
            "\u001b[34m\u001b[1mwandb\u001b[0m: \thidden_layer_size: 128\n",
            "\u001b[34m\u001b[1mwandb\u001b[0m: \thidden_layers: 4\n",
            "\u001b[34m\u001b[1mwandb\u001b[0m: \tlearning_rate: 0.001\n",
            "\u001b[34m\u001b[1mwandb\u001b[0m: \toptimiser: momentum\n",
            "\u001b[34m\u001b[1mwandb\u001b[0m: \tweight_decay: 0.5\n",
            "\u001b[34m\u001b[1mwandb\u001b[0m: \tweights_initialisation: Xavier\n"
          ]
        },
        {
          "output_type": "display_data",
          "data": {
            "text/plain": [
              "<IPython.core.display.HTML object>"
            ],
            "text/html": [
              "Ignoring project 'Assignment 1' when running a sweep."
            ]
          },
          "metadata": {}
        },
        {
          "output_type": "display_data",
          "data": {
            "text/plain": [
              "<IPython.core.display.HTML object>"
            ],
            "text/html": [
              "Tracking run with wandb version 0.19.8"
            ]
          },
          "metadata": {}
        },
        {
          "output_type": "display_data",
          "data": {
            "text/plain": [
              "<IPython.core.display.HTML object>"
            ],
            "text/html": [
              "Run data is saved locally in <code>/content/wandb/run-20250327_184641-ycwl1j81</code>"
            ]
          },
          "metadata": {}
        },
        {
          "output_type": "display_data",
          "data": {
            "text/plain": [
              "<IPython.core.display.HTML object>"
            ],
            "text/html": [
              "Syncing run <strong><a href='https://wandb.ai/rajuguguloth7670-iitm-india/Assignment%201/runs/ycwl1j81' target=\"_blank\">helpful-sweep-1</a></strong> to <a href='https://wandb.ai/rajuguguloth7670-iitm-india/Assignment%201' target=\"_blank\">Weights & Biases</a> (<a href='https://wandb.me/developer-guide' target=\"_blank\">docs</a>)<br>Sweep page: <a href='https://wandb.ai/rajuguguloth7670-iitm-india/Assignment%201/sweeps/frl1rndv' target=\"_blank\">https://wandb.ai/rajuguguloth7670-iitm-india/Assignment%201/sweeps/frl1rndv</a>"
            ]
          },
          "metadata": {}
        },
        {
          "output_type": "display_data",
          "data": {
            "text/plain": [
              "<IPython.core.display.HTML object>"
            ],
            "text/html": [
              " View project at <a href='https://wandb.ai/rajuguguloth7670-iitm-india/Assignment%201' target=\"_blank\">https://wandb.ai/rajuguguloth7670-iitm-india/Assignment%201</a>"
            ]
          },
          "metadata": {}
        },
        {
          "output_type": "display_data",
          "data": {
            "text/plain": [
              "<IPython.core.display.HTML object>"
            ],
            "text/html": [
              " View sweep at <a href='https://wandb.ai/rajuguguloth7670-iitm-india/Assignment%201/sweeps/frl1rndv' target=\"_blank\">https://wandb.ai/rajuguguloth7670-iitm-india/Assignment%201/sweeps/frl1rndv</a>"
            ]
          },
          "metadata": {}
        },
        {
          "output_type": "display_data",
          "data": {
            "text/plain": [
              "<IPython.core.display.HTML object>"
            ],
            "text/html": [
              " View run at <a href='https://wandb.ai/rajuguguloth7670-iitm-india/Assignment%201/runs/ycwl1j81' target=\"_blank\">https://wandb.ai/rajuguguloth7670-iitm-india/Assignment%201/runs/ycwl1j81</a>"
            ]
          },
          "metadata": {}
        },
        {
          "output_type": "stream",
          "name": "stdout",
          "text": [
            "Epoch 1/10 - Train Loss: 0.0225, Val Loss: 0.0228, Train Acc: 0.8417, Val Acc: 0.8328\n",
            "Epoch 2/10 - Train Loss: 0.0191, Val Loss: 0.0201, Train Acc: 0.8651, Val Acc: 0.8593\n"
          ]
        }
      ]
    },
    {
      "cell_type": "code",
      "source": [
        "\n",
        "# for printing the confusion matrix\n",
        "import wandb\n",
        "\n",
        "# Define the sweep configuration\n",
        "sweep_config = {\n",
        "    'method': 'grid',\n",
        "    'name' : 'mnist data',\n",
        "    'metric': {\n",
        "      'name': 'accuracy',\n",
        "      'goal': 'maximize'\n",
        "    },\n",
        "    'parameters': {\n",
        "        'elem': {\n",
        "            'values': [1, 2, 3]\n",
        "        },\n",
        "        # Define other parameters here\n",
        "    }\n",
        "}\n",
        "\n",
        "def main():\n",
        "    wandb.init()\n",
        "    config = wandb.config\n",
        "\n",
        "    if config.elem == 1:\n",
        "      # Set the run name\n",
        "      # Configuration for model with Momentum optimizer and Tanh activation function\n",
        "      model = NeuralNetwork(\n",
        "        input_size=784,                     # e.g., 28x28 images flattened\n",
        "        hidden_size=64,\n",
        "        num_hidden_layers=4,\n",
        "        output_size=10,                     # 10 classes in Fashion-MNIST\n",
        "        activation='tanh',\n",
        "        weight_init_type='Xavier',\n",
        "        optimizer='nadam',\n",
        "        learning_rate=0.0001,\n",
        "        batch_size=64,\n",
        "        loss_type='cross_entropy',          # Or 'mse' if you prefer\n",
        "        weight_decay=0.0005,\n",
        "        iswandb=True,\n",
        "        dataset = \"mnist\"\n",
        "        )\n",
        "    elif config.elem == 2:\n",
        "      # Configuration for model with NAdam optimizer and ReLU activation function\n",
        "      model = NeuralNetwork(\n",
        "        input_size=784,                     # e.g., 28x28 images flattened\n",
        "        hidden_size=128,\n",
        "        num_hidden_layers=5,\n",
        "        output_size=10,                     # 10 classes in Fashion-MNIST\n",
        "        activation='relu',\n",
        "        weight_init_type='Xavier',\n",
        "        optimizer='sgd',\n",
        "        learning_rate=0.001,\n",
        "        batch_size=32,\n",
        "        loss_type='cross_entropy',          # Or 'mse' if you prefer\n",
        "        weight_decay=0,\n",
        "        iswandb=True,\n",
        "        dataset = \"mnist\"\n",
        "        )\n",
        "\n",
        "    elif config.elem == 3:\n",
        "      # Configuration for model with RMSprop optimizer and ReLU activation function\n",
        "      model =NeuralNetwork(\n",
        "        input_size=784,                     # e.g., 28x28 images flattened\n",
        "        hidden_size=64,\n",
        "        num_hidden_layers=3,\n",
        "        output_size=10,                     # 10 classes in Fashion-MNIST\n",
        "        activation='tanh',\n",
        "        weight_init_type='Xavier',\n",
        "        optimizer='nadam',\n",
        "        learning_rate=0.0001,\n",
        "        batch_size=32,\n",
        "        loss_type='cross_entropy',          # Or 'mse' if you prefer\n",
        "        weight_decay=0.0005,\n",
        "        iswandb=True,\n",
        "        dataset = \"mnist\"\n",
        "        )\n",
        "\n",
        "\n",
        "    model.fit(epochs=10)\n",
        "\n",
        "    wandb.finish()\n",
        "\n",
        "sweep_id = wandb.sweep(sweep=sweep_config, project='Assignment 1')\n",
        "wandb.agent(sweep_id, main, count=3)"
      ],
      "metadata": {
        "colab": {
          "base_uri": "https://localhost:8080/",
          "height": 1000
        },
        "id": "yqqF0w5EUcx2",
        "outputId": "8b57ba86-8d8f-4a5c-b702-7eddfa71ce0b"
      },
      "execution_count": 28,
      "outputs": [
        {
          "output_type": "stream",
          "name": "stdout",
          "text": [
            "Create sweep with ID: uwhczwbk\n",
            "Sweep URL: https://wandb.ai/rajuguguloth7670-iitm-india/Assignment%201/sweeps/uwhczwbk\n"
          ]
        },
        {
          "output_type": "stream",
          "name": "stderr",
          "text": [
            "\u001b[34m\u001b[1mwandb\u001b[0m: Agent Starting Run: etwhopje with config:\n",
            "\u001b[34m\u001b[1mwandb\u001b[0m: \telem: 1\n"
          ]
        },
        {
          "output_type": "display_data",
          "data": {
            "text/plain": [
              "<IPython.core.display.HTML object>"
            ],
            "text/html": [
              "Tracking run with wandb version 0.19.8"
            ]
          },
          "metadata": {}
        },
        {
          "output_type": "display_data",
          "data": {
            "text/plain": [
              "<IPython.core.display.HTML object>"
            ],
            "text/html": [
              "Run data is saved locally in <code>/content/wandb/run-20250327_165729-etwhopje</code>"
            ]
          },
          "metadata": {}
        },
        {
          "output_type": "display_data",
          "data": {
            "text/plain": [
              "<IPython.core.display.HTML object>"
            ],
            "text/html": [
              "Syncing run <strong><a href='https://wandb.ai/rajuguguloth7670-iitm-india/Assignment%201/runs/etwhopje' target=\"_blank\">fresh-sweep-1</a></strong> to <a href='https://wandb.ai/rajuguguloth7670-iitm-india/Assignment%201' target=\"_blank\">Weights & Biases</a> (<a href='https://wandb.me/developer-guide' target=\"_blank\">docs</a>)<br>Sweep page: <a href='https://wandb.ai/rajuguguloth7670-iitm-india/Assignment%201/sweeps/uwhczwbk' target=\"_blank\">https://wandb.ai/rajuguguloth7670-iitm-india/Assignment%201/sweeps/uwhczwbk</a>"
            ]
          },
          "metadata": {}
        },
        {
          "output_type": "display_data",
          "data": {
            "text/plain": [
              "<IPython.core.display.HTML object>"
            ],
            "text/html": [
              " View project at <a href='https://wandb.ai/rajuguguloth7670-iitm-india/Assignment%201' target=\"_blank\">https://wandb.ai/rajuguguloth7670-iitm-india/Assignment%201</a>"
            ]
          },
          "metadata": {}
        },
        {
          "output_type": "display_data",
          "data": {
            "text/plain": [
              "<IPython.core.display.HTML object>"
            ],
            "text/html": [
              " View sweep at <a href='https://wandb.ai/rajuguguloth7670-iitm-india/Assignment%201/sweeps/uwhczwbk' target=\"_blank\">https://wandb.ai/rajuguguloth7670-iitm-india/Assignment%201/sweeps/uwhczwbk</a>"
            ]
          },
          "metadata": {}
        },
        {
          "output_type": "display_data",
          "data": {
            "text/plain": [
              "<IPython.core.display.HTML object>"
            ],
            "text/html": [
              " View run at <a href='https://wandb.ai/rajuguguloth7670-iitm-india/Assignment%201/runs/etwhopje' target=\"_blank\">https://wandb.ai/rajuguguloth7670-iitm-india/Assignment%201/runs/etwhopje</a>"
            ]
          },
          "metadata": {}
        },
        {
          "output_type": "stream",
          "name": "stdout",
          "text": [
            "Epoch 1/10 - Train Loss: 0.3645, Val Loss: 0.3136, Train Acc: 0.8993, Val Acc: 0.9157\n",
            "Epoch 2/10 - Train Loss: 0.2723, Val Loss: 0.2314, Train Acc: 0.9221, Val Acc: 0.9318\n",
            "Epoch 3/10 - Train Loss: 0.2318, Val Loss: 0.1990, Train Acc: 0.9326, Val Acc: 0.9435\n",
            "Epoch 4/10 - Train Loss: 0.2013, Val Loss: 0.1744, Train Acc: 0.9419, Val Acc: 0.9492\n",
            "Epoch 5/10 - Train Loss: 0.1768, Val Loss: 0.1542, Train Acc: 0.9489, Val Acc: 0.9568\n",
            "Epoch 6/10 - Train Loss: 0.1586, Val Loss: 0.1416, Train Acc: 0.9544, Val Acc: 0.9603\n",
            "Epoch 7/10 - Train Loss: 0.1438, Val Loss: 0.1318, Train Acc: 0.9582, Val Acc: 0.9613\n",
            "Epoch 8/10 - Train Loss: 0.1310, Val Loss: 0.1228, Train Acc: 0.9616, Val Acc: 0.9635\n",
            "Epoch 9/10 - Train Loss: 0.1190, Val Loss: 0.1182, Train Acc: 0.9659, Val Acc: 0.9653\n",
            "Epoch 10/10 - Train Loss: 0.1097, Val Loss: 0.1115, Train Acc: 0.9689, Val Acc: 0.9667\n"
          ]
        },
        {
          "output_type": "display_data",
          "data": {
            "text/plain": [
              "<IPython.core.display.HTML object>"
            ],
            "text/html": []
          },
          "metadata": {}
        },
        {
          "output_type": "display_data",
          "data": {
            "text/plain": [
              "<IPython.core.display.HTML object>"
            ],
            "text/html": [
              "<br>    <style><br>        .wandb-row {<br>            display: flex;<br>            flex-direction: row;<br>            flex-wrap: wrap;<br>            justify-content: flex-start;<br>            width: 100%;<br>        }<br>        .wandb-col {<br>            display: flex;<br>            flex-direction: column;<br>            flex-basis: 100%;<br>            flex: 1;<br>            padding: 10px;<br>        }<br>    </style><br><div class=\"wandb-row\"><div class=\"wandb-col\"><h3>Run history:</h3><br/><table class=\"wandb\"><tr><td>epoch</td><td>▁▂▃▃▄▅▆▆▇█</td></tr><tr><td>train_accuracy</td><td>▁▃▄▅▆▇▇▇██</td></tr><tr><td>train_loss</td><td>█▅▄▄▃▂▂▂▁▁</td></tr><tr><td>val_accuracy</td><td>▁▃▅▆▇▇▇███</td></tr><tr><td>val_loss</td><td>█▅▄▃▂▂▂▁▁▁</td></tr></table><br/></div><div class=\"wandb-col\"><h3>Run summary:</h3><br/><table class=\"wandb\"><tr><td>epoch</td><td>9</td></tr><tr><td>train_accuracy</td><td>0.96894</td></tr><tr><td>train_loss</td><td>0.10967</td></tr><tr><td>val_accuracy</td><td>0.96667</td></tr><tr><td>val_loss</td><td>0.11154</td></tr></table><br/></div></div>"
            ]
          },
          "metadata": {}
        },
        {
          "output_type": "display_data",
          "data": {
            "text/plain": [
              "<IPython.core.display.HTML object>"
            ],
            "text/html": [
              " View run <strong style=\"color:#cdcd00\">fresh-sweep-1</strong> at: <a href='https://wandb.ai/rajuguguloth7670-iitm-india/Assignment%201/runs/etwhopje' target=\"_blank\">https://wandb.ai/rajuguguloth7670-iitm-india/Assignment%201/runs/etwhopje</a><br> View project at: <a href='https://wandb.ai/rajuguguloth7670-iitm-india/Assignment%201' target=\"_blank\">https://wandb.ai/rajuguguloth7670-iitm-india/Assignment%201</a><br>Synced 5 W&B file(s), 0 media file(s), 0 artifact file(s) and 0 other file(s)"
            ]
          },
          "metadata": {}
        },
        {
          "output_type": "display_data",
          "data": {
            "text/plain": [
              "<IPython.core.display.HTML object>"
            ],
            "text/html": [
              "Find logs at: <code>./wandb/run-20250327_165729-etwhopje/logs</code>"
            ]
          },
          "metadata": {}
        },
        {
          "output_type": "stream",
          "name": "stderr",
          "text": [
            "\u001b[34m\u001b[1mwandb\u001b[0m: Agent Starting Run: zja5k4qq with config:\n",
            "\u001b[34m\u001b[1mwandb\u001b[0m: \telem: 2\n"
          ]
        },
        {
          "output_type": "display_data",
          "data": {
            "text/plain": [
              "<IPython.core.display.HTML object>"
            ],
            "text/html": [
              "Tracking run with wandb version 0.19.8"
            ]
          },
          "metadata": {}
        },
        {
          "output_type": "display_data",
          "data": {
            "text/plain": [
              "<IPython.core.display.HTML object>"
            ],
            "text/html": [
              "Run data is saved locally in <code>/content/wandb/run-20250327_165901-zja5k4qq</code>"
            ]
          },
          "metadata": {}
        },
        {
          "output_type": "display_data",
          "data": {
            "text/plain": [
              "<IPython.core.display.HTML object>"
            ],
            "text/html": [
              "Syncing run <strong><a href='https://wandb.ai/rajuguguloth7670-iitm-india/Assignment%201/runs/zja5k4qq' target=\"_blank\">sage-sweep-2</a></strong> to <a href='https://wandb.ai/rajuguguloth7670-iitm-india/Assignment%201' target=\"_blank\">Weights & Biases</a> (<a href='https://wandb.me/developer-guide' target=\"_blank\">docs</a>)<br>Sweep page: <a href='https://wandb.ai/rajuguguloth7670-iitm-india/Assignment%201/sweeps/uwhczwbk' target=\"_blank\">https://wandb.ai/rajuguguloth7670-iitm-india/Assignment%201/sweeps/uwhczwbk</a>"
            ]
          },
          "metadata": {}
        },
        {
          "output_type": "display_data",
          "data": {
            "text/plain": [
              "<IPython.core.display.HTML object>"
            ],
            "text/html": [
              " View project at <a href='https://wandb.ai/rajuguguloth7670-iitm-india/Assignment%201' target=\"_blank\">https://wandb.ai/rajuguguloth7670-iitm-india/Assignment%201</a>"
            ]
          },
          "metadata": {}
        },
        {
          "output_type": "display_data",
          "data": {
            "text/plain": [
              "<IPython.core.display.HTML object>"
            ],
            "text/html": [
              " View sweep at <a href='https://wandb.ai/rajuguguloth7670-iitm-india/Assignment%201/sweeps/uwhczwbk' target=\"_blank\">https://wandb.ai/rajuguguloth7670-iitm-india/Assignment%201/sweeps/uwhczwbk</a>"
            ]
          },
          "metadata": {}
        },
        {
          "output_type": "display_data",
          "data": {
            "text/plain": [
              "<IPython.core.display.HTML object>"
            ],
            "text/html": [
              " View run at <a href='https://wandb.ai/rajuguguloth7670-iitm-india/Assignment%201/runs/zja5k4qq' target=\"_blank\">https://wandb.ai/rajuguguloth7670-iitm-india/Assignment%201/runs/zja5k4qq</a>"
            ]
          },
          "metadata": {}
        },
        {
          "output_type": "stream",
          "name": "stdout",
          "text": [
            "Epoch 1/10 - Train Loss: 0.1818, Val Loss: 0.1553, Train Acc: 0.9444, Val Acc: 0.9555\n",
            "Epoch 2/10 - Train Loss: 0.1194, Val Loss: 0.1206, Train Acc: 0.9642, Val Acc: 0.9658\n",
            "Epoch 3/10 - Train Loss: 0.0804, Val Loss: 0.0920, Train Acc: 0.9761, Val Acc: 0.9760\n",
            "Epoch 4/10 - Train Loss: 0.0646, Val Loss: 0.0896, Train Acc: 0.9805, Val Acc: 0.9728\n",
            "Epoch 5/10 - Train Loss: 0.0480, Val Loss: 0.0892, Train Acc: 0.9862, Val Acc: 0.9752\n",
            "Epoch 6/10 - Train Loss: 0.0373, Val Loss: 0.0808, Train Acc: 0.9889, Val Acc: 0.9778\n",
            "Epoch 7/10 - Train Loss: 0.0403, Val Loss: 0.0908, Train Acc: 0.9877, Val Acc: 0.9742\n",
            "Epoch 8/10 - Train Loss: 0.0316, Val Loss: 0.0897, Train Acc: 0.9896, Val Acc: 0.9757\n",
            "Epoch 9/10 - Train Loss: 0.0204, Val Loss: 0.0753, Train Acc: 0.9941, Val Acc: 0.9800\n",
            "Epoch 10/10 - Train Loss: 0.0222, Val Loss: 0.0903, Train Acc: 0.9930, Val Acc: 0.9768\n"
          ]
        },
        {
          "output_type": "display_data",
          "data": {
            "text/plain": [
              "<IPython.core.display.HTML object>"
            ],
            "text/html": []
          },
          "metadata": {}
        },
        {
          "output_type": "display_data",
          "data": {
            "text/plain": [
              "<IPython.core.display.HTML object>"
            ],
            "text/html": [
              "<br>    <style><br>        .wandb-row {<br>            display: flex;<br>            flex-direction: row;<br>            flex-wrap: wrap;<br>            justify-content: flex-start;<br>            width: 100%;<br>        }<br>        .wandb-col {<br>            display: flex;<br>            flex-direction: column;<br>            flex-basis: 100%;<br>            flex: 1;<br>            padding: 10px;<br>        }<br>    </style><br><div class=\"wandb-row\"><div class=\"wandb-col\"><h3>Run history:</h3><br/><table class=\"wandb\"><tr><td>epoch</td><td>▁▂▃▃▄▅▆▆▇█</td></tr><tr><td>train_accuracy</td><td>▁▄▅▆▇▇▇▇██</td></tr><tr><td>train_loss</td><td>█▅▄▃▂▂▂▁▁▁</td></tr><tr><td>val_accuracy</td><td>▁▄▇▆▇▇▆▇█▇</td></tr><tr><td>val_loss</td><td>█▅▂▂▂▁▂▂▁▂</td></tr></table><br/></div><div class=\"wandb-col\"><h3>Run summary:</h3><br/><table class=\"wandb\"><tr><td>epoch</td><td>9</td></tr><tr><td>train_accuracy</td><td>0.993</td></tr><tr><td>train_loss</td><td>0.02219</td></tr><tr><td>val_accuracy</td><td>0.97683</td></tr><tr><td>val_loss</td><td>0.09033</td></tr></table><br/></div></div>"
            ]
          },
          "metadata": {}
        },
        {
          "output_type": "display_data",
          "data": {
            "text/plain": [
              "<IPython.core.display.HTML object>"
            ],
            "text/html": [
              " View run <strong style=\"color:#cdcd00\">sage-sweep-2</strong> at: <a href='https://wandb.ai/rajuguguloth7670-iitm-india/Assignment%201/runs/zja5k4qq' target=\"_blank\">https://wandb.ai/rajuguguloth7670-iitm-india/Assignment%201/runs/zja5k4qq</a><br> View project at: <a href='https://wandb.ai/rajuguguloth7670-iitm-india/Assignment%201' target=\"_blank\">https://wandb.ai/rajuguguloth7670-iitm-india/Assignment%201</a><br>Synced 5 W&B file(s), 0 media file(s), 0 artifact file(s) and 0 other file(s)"
            ]
          },
          "metadata": {}
        },
        {
          "output_type": "display_data",
          "data": {
            "text/plain": [
              "<IPython.core.display.HTML object>"
            ],
            "text/html": [
              "Find logs at: <code>./wandb/run-20250327_165901-zja5k4qq/logs</code>"
            ]
          },
          "metadata": {}
        },
        {
          "output_type": "stream",
          "name": "stderr",
          "text": [
            "\u001b[34m\u001b[1mwandb\u001b[0m: Agent Starting Run: eq5dwton with config:\n",
            "\u001b[34m\u001b[1mwandb\u001b[0m: \telem: 3\n"
          ]
        },
        {
          "output_type": "display_data",
          "data": {
            "text/plain": [
              "<IPython.core.display.HTML object>"
            ],
            "text/html": [
              "Tracking run with wandb version 0.19.8"
            ]
          },
          "metadata": {}
        },
        {
          "output_type": "display_data",
          "data": {
            "text/plain": [
              "<IPython.core.display.HTML object>"
            ],
            "text/html": [
              "Run data is saved locally in <code>/content/wandb/run-20250327_170024-eq5dwton</code>"
            ]
          },
          "metadata": {}
        },
        {
          "output_type": "display_data",
          "data": {
            "text/plain": [
              "<IPython.core.display.HTML object>"
            ],
            "text/html": [
              "Syncing run <strong><a href='https://wandb.ai/rajuguguloth7670-iitm-india/Assignment%201/runs/eq5dwton' target=\"_blank\">tough-sweep-3</a></strong> to <a href='https://wandb.ai/rajuguguloth7670-iitm-india/Assignment%201' target=\"_blank\">Weights & Biases</a> (<a href='https://wandb.me/developer-guide' target=\"_blank\">docs</a>)<br>Sweep page: <a href='https://wandb.ai/rajuguguloth7670-iitm-india/Assignment%201/sweeps/uwhczwbk' target=\"_blank\">https://wandb.ai/rajuguguloth7670-iitm-india/Assignment%201/sweeps/uwhczwbk</a>"
            ]
          },
          "metadata": {}
        },
        {
          "output_type": "display_data",
          "data": {
            "text/plain": [
              "<IPython.core.display.HTML object>"
            ],
            "text/html": [
              " View project at <a href='https://wandb.ai/rajuguguloth7670-iitm-india/Assignment%201' target=\"_blank\">https://wandb.ai/rajuguguloth7670-iitm-india/Assignment%201</a>"
            ]
          },
          "metadata": {}
        },
        {
          "output_type": "display_data",
          "data": {
            "text/plain": [
              "<IPython.core.display.HTML object>"
            ],
            "text/html": [
              " View sweep at <a href='https://wandb.ai/rajuguguloth7670-iitm-india/Assignment%201/sweeps/uwhczwbk' target=\"_blank\">https://wandb.ai/rajuguguloth7670-iitm-india/Assignment%201/sweeps/uwhczwbk</a>"
            ]
          },
          "metadata": {}
        },
        {
          "output_type": "display_data",
          "data": {
            "text/plain": [
              "<IPython.core.display.HTML object>"
            ],
            "text/html": [
              " View run at <a href='https://wandb.ai/rajuguguloth7670-iitm-india/Assignment%201/runs/eq5dwton' target=\"_blank\">https://wandb.ai/rajuguguloth7670-iitm-india/Assignment%201/runs/eq5dwton</a>"
            ]
          },
          "metadata": {}
        },
        {
          "output_type": "stream",
          "name": "stdout",
          "text": [
            "Epoch 1/10 - Train Loss: 0.3196, Val Loss: 0.2677, Train Acc: 0.9122, Val Acc: 0.9290\n",
            "Epoch 2/10 - Train Loss: 0.2489, Val Loss: 0.2120, Train Acc: 0.9290, Val Acc: 0.9397\n",
            "Epoch 3/10 - Train Loss: 0.2133, Val Loss: 0.1815, Train Acc: 0.9387, Val Acc: 0.9488\n",
            "Epoch 4/10 - Train Loss: 0.1826, Val Loss: 0.1576, Train Acc: 0.9480, Val Acc: 0.9560\n",
            "Epoch 5/10 - Train Loss: 0.1622, Val Loss: 0.1456, Train Acc: 0.9536, Val Acc: 0.9575\n",
            "Epoch 6/10 - Train Loss: 0.1435, Val Loss: 0.1336, Train Acc: 0.9593, Val Acc: 0.9625\n",
            "Epoch 7/10 - Train Loss: 0.1282, Val Loss: 0.1209, Train Acc: 0.9635, Val Acc: 0.9650\n",
            "Epoch 8/10 - Train Loss: 0.1132, Val Loss: 0.1128, Train Acc: 0.9682, Val Acc: 0.9665\n",
            "Epoch 9/10 - Train Loss: 0.1028, Val Loss: 0.1067, Train Acc: 0.9712, Val Acc: 0.9678\n",
            "Epoch 10/10 - Train Loss: 0.0953, Val Loss: 0.1005, Train Acc: 0.9736, Val Acc: 0.9705\n"
          ]
        },
        {
          "output_type": "display_data",
          "data": {
            "text/plain": [
              "<IPython.core.display.HTML object>"
            ],
            "text/html": []
          },
          "metadata": {}
        },
        {
          "output_type": "display_data",
          "data": {
            "text/plain": [
              "<IPython.core.display.HTML object>"
            ],
            "text/html": [
              "<br>    <style><br>        .wandb-row {<br>            display: flex;<br>            flex-direction: row;<br>            flex-wrap: wrap;<br>            justify-content: flex-start;<br>            width: 100%;<br>        }<br>        .wandb-col {<br>            display: flex;<br>            flex-direction: column;<br>            flex-basis: 100%;<br>            flex: 1;<br>            padding: 10px;<br>        }<br>    </style><br><div class=\"wandb-row\"><div class=\"wandb-col\"><h3>Run history:</h3><br/><table class=\"wandb\"><tr><td>epoch</td><td>▁▂▃▃▄▅▆▆▇█</td></tr><tr><td>train_accuracy</td><td>▁▃▄▅▆▆▇▇██</td></tr><tr><td>train_loss</td><td>█▆▅▄▃▃▂▂▁▁</td></tr><tr><td>val_accuracy</td><td>▁▃▄▆▆▇▇▇██</td></tr><tr><td>val_loss</td><td>█▆▄▃▃▂▂▂▁▁</td></tr></table><br/></div><div class=\"wandb-col\"><h3>Run summary:</h3><br/><table class=\"wandb\"><tr><td>epoch</td><td>9</td></tr><tr><td>train_accuracy</td><td>0.97361</td></tr><tr><td>train_loss</td><td>0.09533</td></tr><tr><td>val_accuracy</td><td>0.9705</td></tr><tr><td>val_loss</td><td>0.10046</td></tr></table><br/></div></div>"
            ]
          },
          "metadata": {}
        },
        {
          "output_type": "display_data",
          "data": {
            "text/plain": [
              "<IPython.core.display.HTML object>"
            ],
            "text/html": [
              " View run <strong style=\"color:#cdcd00\">tough-sweep-3</strong> at: <a href='https://wandb.ai/rajuguguloth7670-iitm-india/Assignment%201/runs/eq5dwton' target=\"_blank\">https://wandb.ai/rajuguguloth7670-iitm-india/Assignment%201/runs/eq5dwton</a><br> View project at: <a href='https://wandb.ai/rajuguguloth7670-iitm-india/Assignment%201' target=\"_blank\">https://wandb.ai/rajuguguloth7670-iitm-india/Assignment%201</a><br>Synced 5 W&B file(s), 0 media file(s), 0 artifact file(s) and 0 other file(s)"
            ]
          },
          "metadata": {}
        },
        {
          "output_type": "display_data",
          "data": {
            "text/plain": [
              "<IPython.core.display.HTML object>"
            ],
            "text/html": [
              "Find logs at: <code>./wandb/run-20250327_170024-eq5dwton/logs</code>"
            ]
          },
          "metadata": {}
        }
      ]
    },
    {
      "cell_type": "code",
      "source": [],
      "metadata": {
        "id": "89qt7udqbXt4"
      },
      "execution_count": null,
      "outputs": []
    }
  ]
}